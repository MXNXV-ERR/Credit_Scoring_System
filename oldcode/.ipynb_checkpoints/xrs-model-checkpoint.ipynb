{
 "cells": [
  {
   "cell_type": "code",
   "execution_count": 2,
   "metadata": {
    "_cell_guid": "b1076dfc-b9ad-4769-8c92-a6c4dae69d19",
    "_uuid": "8f2839f25d086af736a60e9eeb907d3b93b6e0e5"
   },
   "outputs": [],
   "source": [
    "import pandas as pd"
   ]
  },
  {
   "cell_type": "code",
   "execution_count": 4,
   "metadata": {
    "execution": {
     "iopub.execute_input": "2023-10-17T18:24:37.215376Z",
     "iopub.status.busy": "2023-10-17T18:24:37.214986Z",
     "iopub.status.idle": "2023-10-17T18:24:37.721104Z",
     "shell.execute_reply": "2023-10-17T18:24:37.719950Z",
     "shell.execute_reply.started": "2023-10-17T18:24:37.215344Z"
    }
   },
   "outputs": [],
   "source": [
    "df = pd.read_csv('credit-score.csv')"
   ]
  },
  {
   "cell_type": "code",
   "execution_count": 5,
   "metadata": {
    "execution": {
     "iopub.execute_input": "2023-10-17T18:24:40.047932Z",
     "iopub.status.busy": "2023-10-17T18:24:40.047491Z",
     "iopub.status.idle": "2023-10-17T18:24:40.086236Z",
     "shell.execute_reply": "2023-10-17T18:24:40.085114Z",
     "shell.execute_reply.started": "2023-10-17T18:24:40.047902Z"
    }
   },
   "outputs": [
    {
     "name": "stdout",
     "output_type": "stream",
     "text": [
      "<class 'pandas.core.frame.DataFrame'>\n",
      "RangeIndex: 100000 entries, 0 to 99999\n",
      "Data columns (total 35 columns):\n",
      " #   Column                       Non-Null Count   Dtype  \n",
      "---  ------                       --------------   -----  \n",
      " 0   ID                           100000 non-null  object \n",
      " 1   Customer_ID                  100000 non-null  object \n",
      " 2   Month                        100000 non-null  int64  \n",
      " 3   Age                          100000 non-null  float64\n",
      " 4   Occupation                   100000 non-null  object \n",
      " 5   Annual_Income                100000 non-null  float64\n",
      " 6   Monthly_Inhand_Salary        100000 non-null  float64\n",
      " 7   Num_Bank_Accounts            100000 non-null  float64\n",
      " 8   Num_Credit_Card              100000 non-null  float64\n",
      " 9   Interest_Rate                100000 non-null  float64\n",
      " 10  Num_of_Loan                  100000 non-null  float64\n",
      " 11  Type_of_Loan                 100000 non-null  object \n",
      " 12  Delay_from_due_date          100000 non-null  int64  \n",
      " 13  Num_of_Delayed_Payment       100000 non-null  float64\n",
      " 14  Changed_Credit_Limit         100000 non-null  float64\n",
      " 15  Num_Credit_Inquiries         100000 non-null  float64\n",
      " 16  Credit_Mix                   100000 non-null  int64  \n",
      " 17  Outstanding_Debt             100000 non-null  float64\n",
      " 18  Credit_Utilization_Ratio     100000 non-null  float64\n",
      " 19  Payment_of_Min_Amount        100000 non-null  object \n",
      " 20  Total_EMI_per_month          100000 non-null  float64\n",
      " 21  Amount_invested_monthly      100000 non-null  float64\n",
      " 22  Monthly_Balance              100000 non-null  float64\n",
      " 23  Credit_Score                 100000 non-null  int64  \n",
      " 24  Credit_History_Age_Formated  100000 non-null  float64\n",
      " 25  Auto_Loan                    100000 non-null  int64  \n",
      " 26  Credit-Builder_Loan          100000 non-null  int64  \n",
      " 27  Personal_Loan                100000 non-null  int64  \n",
      " 28  Home_Equity_Loan             100000 non-null  int64  \n",
      " 29  Not_Specified                100000 non-null  int64  \n",
      " 30  Mortgage_Loan                100000 non-null  int64  \n",
      " 31  Student_Loan                 100000 non-null  int64  \n",
      " 32  Debt_Consolidation_Loan      100000 non-null  int64  \n",
      " 33  Payday_Loan                  100000 non-null  int64  \n",
      " 34  Missed_Payment_Day           100000 non-null  int64  \n",
      "dtypes: float64(16), int64(14), object(5)\n",
      "memory usage: 26.7+ MB\n"
     ]
    }
   ],
   "source": [
    "df.info()"
   ]
  },
  {
   "cell_type": "code",
   "execution_count": 6,
   "metadata": {
    "execution": {
     "iopub.execute_input": "2023-10-17T18:24:44.961588Z",
     "iopub.status.busy": "2023-10-17T18:24:44.961235Z",
     "iopub.status.idle": "2023-10-17T18:24:45.006255Z",
     "shell.execute_reply": "2023-10-17T18:24:45.005395Z",
     "shell.execute_reply.started": "2023-10-17T18:24:44.961561Z"
    }
   },
   "outputs": [
    {
     "name": "stdout",
     "output_type": "stream",
     "text": [
      "<class 'pandas.core.frame.DataFrame'>\n",
      "RangeIndex: 100000 entries, 0 to 99999\n",
      "Data columns (total 32 columns):\n",
      " #   Column                       Non-Null Count   Dtype  \n",
      "---  ------                       --------------   -----  \n",
      " 0   Month                        100000 non-null  int64  \n",
      " 1   Age                          100000 non-null  float64\n",
      " 2   Occupation                   100000 non-null  object \n",
      " 3   Annual_Income                100000 non-null  float64\n",
      " 4   Monthly_Inhand_Salary        100000 non-null  float64\n",
      " 5   Num_Bank_Accounts            100000 non-null  float64\n",
      " 6   Num_Credit_Card              100000 non-null  float64\n",
      " 7   Interest_Rate                100000 non-null  float64\n",
      " 8   Num_of_Loan                  100000 non-null  float64\n",
      " 9   Type_of_Loan                 100000 non-null  object \n",
      " 10  Delay_from_due_date          100000 non-null  int64  \n",
      " 11  Num_of_Delayed_Payment       100000 non-null  float64\n",
      " 12  Changed_Credit_Limit         100000 non-null  float64\n",
      " 13  Num_Credit_Inquiries         100000 non-null  float64\n",
      " 14  Credit_Mix                   100000 non-null  int64  \n",
      " 15  Outstanding_Debt             100000 non-null  float64\n",
      " 16  Credit_Utilization_Ratio     100000 non-null  float64\n",
      " 17  Payment_of_Min_Amount        100000 non-null  object \n",
      " 18  Total_EMI_per_month          100000 non-null  float64\n",
      " 19  Amount_invested_monthly      100000 non-null  float64\n",
      " 20  Monthly_Balance              100000 non-null  float64\n",
      " 21  Credit_Score                 100000 non-null  int64  \n",
      " 22  Credit_History_Age_Formated  100000 non-null  float64\n",
      " 23  Auto_Loan                    100000 non-null  int64  \n",
      " 24  Credit-Builder_Loan          100000 non-null  int64  \n",
      " 25  Personal_Loan                100000 non-null  int64  \n",
      " 26  Home_Equity_Loan             100000 non-null  int64  \n",
      " 27  Mortgage_Loan                100000 non-null  int64  \n",
      " 28  Student_Loan                 100000 non-null  int64  \n",
      " 29  Debt_Consolidation_Loan      100000 non-null  int64  \n",
      " 30  Payday_Loan                  100000 non-null  int64  \n",
      " 31  Missed_Payment_Day           100000 non-null  int64  \n",
      "dtypes: float64(16), int64(13), object(3)\n",
      "memory usage: 24.4+ MB\n"
     ]
    }
   ],
   "source": [
    "df = df.drop(columns=['ID','Customer_ID','Not_Specified'])\n",
    "df.info()"
   ]
  },
  {
   "cell_type": "code",
   "execution_count": 7,
   "metadata": {
    "execution": {
     "iopub.execute_input": "2023-10-17T18:25:41.903757Z",
     "iopub.status.busy": "2023-10-17T18:25:41.903338Z",
     "iopub.status.idle": "2023-10-17T18:25:41.930728Z",
     "shell.execute_reply": "2023-10-17T18:25:41.929575Z",
     "shell.execute_reply.started": "2023-10-17T18:25:41.903726Z"
    }
   },
   "outputs": [],
   "source": [
    "from sklearn.preprocessing import LabelEncoder\n",
    "label_encoder = LabelEncoder()\n",
    "df['Occupation'] = label_encoder.fit_transform(df['Occupation'])\n"
   ]
  },
  {
   "cell_type": "code",
   "execution_count": 8,
   "metadata": {
    "execution": {
     "iopub.execute_input": "2023-10-17T18:27:41.032757Z",
     "iopub.status.busy": "2023-10-17T18:27:41.032389Z",
     "iopub.status.idle": "2023-10-17T18:27:41.096635Z",
     "shell.execute_reply": "2023-10-17T18:27:41.095555Z",
     "shell.execute_reply.started": "2023-10-17T18:27:41.032731Z"
    }
   },
   "outputs": [],
   "source": [
    "df['Type_of_Loan'] = label_encoder.fit_transform(df['Type_of_Loan'])\n",
    "df['Payment_of_Min_Amount'] = label_encoder.fit_transform(df['Payment_of_Min_Amount'])"
   ]
  },
  {
   "cell_type": "code",
   "execution_count": 9,
   "metadata": {
    "execution": {
     "iopub.execute_input": "2023-10-17T18:26:16.466912Z",
     "iopub.status.busy": "2023-10-17T18:26:16.466385Z",
     "iopub.status.idle": "2023-10-17T18:26:16.476291Z",
     "shell.execute_reply": "2023-10-17T18:26:16.475214Z",
     "shell.execute_reply.started": "2023-10-17T18:26:16.466867Z"
    }
   },
   "outputs": [
    {
     "data": {
      "text/plain": [
       "array([12, 13,  4,  5,  2,  7, 10,  3,  6,  8,  0, 11,  9, 14,  1])"
      ]
     },
     "execution_count": 9,
     "metadata": {},
     "output_type": "execute_result"
    }
   ],
   "source": [
    "df['Occupation'].unique()"
   ]
  },
  {
   "cell_type": "code",
   "execution_count": 10,
   "metadata": {
    "execution": {
     "iopub.execute_input": "2023-10-17T18:28:20.743136Z",
     "iopub.status.busy": "2023-10-17T18:28:20.742731Z",
     "iopub.status.idle": "2023-10-17T18:28:20.751167Z",
     "shell.execute_reply": "2023-10-17T18:28:20.750345Z",
     "shell.execute_reply.started": "2023-10-17T18:28:20.743104Z"
    }
   },
   "outputs": [
    {
     "data": {
      "text/plain": [
       "6259"
      ]
     },
     "execution_count": 10,
     "metadata": {},
     "output_type": "execute_result"
    }
   ],
   "source": [
    "df['Type_of_Loan'].unique().max()"
   ]
  },
  {
   "cell_type": "code",
   "execution_count": 11,
   "metadata": {
    "execution": {
     "iopub.execute_input": "2023-10-17T18:28:48.465632Z",
     "iopub.status.busy": "2023-10-17T18:28:48.465243Z",
     "iopub.status.idle": "2023-10-17T18:28:48.473948Z",
     "shell.execute_reply": "2023-10-17T18:28:48.472594Z",
     "shell.execute_reply.started": "2023-10-17T18:28:48.465601Z"
    }
   },
   "outputs": [
    {
     "data": {
      "text/plain": [
       "array([0, 1])"
      ]
     },
     "execution_count": 11,
     "metadata": {},
     "output_type": "execute_result"
    }
   ],
   "source": [
    "df['Payment_of_Min_Amount'].unique()"
   ]
  },
  {
   "cell_type": "code",
   "execution_count": 12,
   "metadata": {
    "execution": {
     "iopub.execute_input": "2023-10-17T18:28:56.921862Z",
     "iopub.status.busy": "2023-10-17T18:28:56.921488Z",
     "iopub.status.idle": "2023-10-17T18:28:56.931110Z",
     "shell.execute_reply": "2023-10-17T18:28:56.929596Z",
     "shell.execute_reply.started": "2023-10-17T18:28:56.921834Z"
    }
   },
   "outputs": [],
   "source": [
    "df['Credit_Score'] = df['Credit_Score'].map({-1:0,0:1,1:2})"
   ]
  },
  {
   "cell_type": "code",
   "execution_count": 13,
   "metadata": {
    "execution": {
     "iopub.execute_input": "2023-10-17T18:29:06.231615Z",
     "iopub.status.busy": "2023-10-17T18:29:06.231235Z",
     "iopub.status.idle": "2023-10-17T18:29:06.453790Z",
     "shell.execute_reply": "2023-10-17T18:29:06.452599Z",
     "shell.execute_reply.started": "2023-10-17T18:29:06.231584Z"
    }
   },
   "outputs": [
    {
     "data": {
      "text/html": [
       "<div>\n",
       "<style scoped>\n",
       "    .dataframe tbody tr th:only-of-type {\n",
       "        vertical-align: middle;\n",
       "    }\n",
       "\n",
       "    .dataframe tbody tr th {\n",
       "        vertical-align: top;\n",
       "    }\n",
       "\n",
       "    .dataframe thead th {\n",
       "        text-align: right;\n",
       "    }\n",
       "</style>\n",
       "<table border=\"1\" class=\"dataframe\">\n",
       "  <thead>\n",
       "    <tr style=\"text-align: right;\">\n",
       "      <th></th>\n",
       "      <th>Month</th>\n",
       "      <th>Age</th>\n",
       "      <th>Occupation</th>\n",
       "      <th>Annual_Income</th>\n",
       "      <th>Monthly_Inhand_Salary</th>\n",
       "      <th>Num_Bank_Accounts</th>\n",
       "      <th>Num_Credit_Card</th>\n",
       "      <th>Interest_Rate</th>\n",
       "      <th>Num_of_Loan</th>\n",
       "      <th>Type_of_Loan</th>\n",
       "      <th>...</th>\n",
       "      <th>Credit_History_Age_Formated</th>\n",
       "      <th>Auto_Loan</th>\n",
       "      <th>Credit-Builder_Loan</th>\n",
       "      <th>Personal_Loan</th>\n",
       "      <th>Home_Equity_Loan</th>\n",
       "      <th>Mortgage_Loan</th>\n",
       "      <th>Student_Loan</th>\n",
       "      <th>Debt_Consolidation_Loan</th>\n",
       "      <th>Payday_Loan</th>\n",
       "      <th>Missed_Payment_Day</th>\n",
       "    </tr>\n",
       "  </thead>\n",
       "  <tbody>\n",
       "    <tr>\n",
       "      <th>count</th>\n",
       "      <td>100000.000000</td>\n",
       "      <td>100000.000000</td>\n",
       "      <td>100000.000000</td>\n",
       "      <td>100000.000000</td>\n",
       "      <td>100000.000000</td>\n",
       "      <td>100000.000000</td>\n",
       "      <td>100000.000000</td>\n",
       "      <td>100000.00000</td>\n",
       "      <td>100000.000000</td>\n",
       "      <td>100000.000000</td>\n",
       "      <td>...</td>\n",
       "      <td>100000.000000</td>\n",
       "      <td>100000.000000</td>\n",
       "      <td>100000.00000</td>\n",
       "      <td>100000.000000</td>\n",
       "      <td>100000.000000</td>\n",
       "      <td>100000.000000</td>\n",
       "      <td>100000.00000</td>\n",
       "      <td>100000.00000</td>\n",
       "      <td>100000.000000</td>\n",
       "      <td>100000.000000</td>\n",
       "    </tr>\n",
       "    <tr>\n",
       "      <th>mean</th>\n",
       "      <td>4.500000</td>\n",
       "      <td>33.322050</td>\n",
       "      <td>6.949840</td>\n",
       "      <td>50519.155472</td>\n",
       "      <td>4198.468568</td>\n",
       "      <td>5.403396</td>\n",
       "      <td>5.533620</td>\n",
       "      <td>14.53208</td>\n",
       "      <td>3.532880</td>\n",
       "      <td>3194.687520</td>\n",
       "      <td>...</td>\n",
       "      <td>221.180115</td>\n",
       "      <td>0.305600</td>\n",
       "      <td>0.31728</td>\n",
       "      <td>0.311040</td>\n",
       "      <td>0.314000</td>\n",
       "      <td>0.313600</td>\n",
       "      <td>0.31040</td>\n",
       "      <td>0.31040</td>\n",
       "      <td>0.319440</td>\n",
       "      <td>0.982140</td>\n",
       "    </tr>\n",
       "    <tr>\n",
       "      <th>std</th>\n",
       "      <td>2.291299</td>\n",
       "      <td>10.773792</td>\n",
       "      <td>4.309542</td>\n",
       "      <td>38335.627421</td>\n",
       "      <td>3187.369878</td>\n",
       "      <td>2.965084</td>\n",
       "      <td>2.067078</td>\n",
       "      <td>8.74133</td>\n",
       "      <td>2.446356</td>\n",
       "      <td>1714.425404</td>\n",
       "      <td>...</td>\n",
       "      <td>99.071581</td>\n",
       "      <td>0.460663</td>\n",
       "      <td>0.46542</td>\n",
       "      <td>0.462921</td>\n",
       "      <td>0.464119</td>\n",
       "      <td>0.463958</td>\n",
       "      <td>0.46266</td>\n",
       "      <td>0.46266</td>\n",
       "      <td>0.466262</td>\n",
       "      <td>0.132443</td>\n",
       "    </tr>\n",
       "    <tr>\n",
       "      <th>min</th>\n",
       "      <td>1.000000</td>\n",
       "      <td>14.000000</td>\n",
       "      <td>0.000000</td>\n",
       "      <td>7005.930000</td>\n",
       "      <td>303.645417</td>\n",
       "      <td>0.000000</td>\n",
       "      <td>0.000000</td>\n",
       "      <td>1.00000</td>\n",
       "      <td>0.000000</td>\n",
       "      <td>0.000000</td>\n",
       "      <td>...</td>\n",
       "      <td>1.000000</td>\n",
       "      <td>0.000000</td>\n",
       "      <td>0.00000</td>\n",
       "      <td>0.000000</td>\n",
       "      <td>0.000000</td>\n",
       "      <td>0.000000</td>\n",
       "      <td>0.00000</td>\n",
       "      <td>0.00000</td>\n",
       "      <td>0.000000</td>\n",
       "      <td>0.000000</td>\n",
       "    </tr>\n",
       "    <tr>\n",
       "      <th>25%</th>\n",
       "      <td>2.750000</td>\n",
       "      <td>24.000000</td>\n",
       "      <td>3.000000</td>\n",
       "      <td>19344.270000</td>\n",
       "      <td>1626.594167</td>\n",
       "      <td>3.000000</td>\n",
       "      <td>4.000000</td>\n",
       "      <td>7.00000</td>\n",
       "      <td>2.000000</td>\n",
       "      <td>1777.750000</td>\n",
       "      <td>...</td>\n",
       "      <td>146.000000</td>\n",
       "      <td>0.000000</td>\n",
       "      <td>0.00000</td>\n",
       "      <td>0.000000</td>\n",
       "      <td>0.000000</td>\n",
       "      <td>0.000000</td>\n",
       "      <td>0.00000</td>\n",
       "      <td>0.00000</td>\n",
       "      <td>0.000000</td>\n",
       "      <td>1.000000</td>\n",
       "    </tr>\n",
       "    <tr>\n",
       "      <th>50%</th>\n",
       "      <td>4.500000</td>\n",
       "      <td>33.000000</td>\n",
       "      <td>7.000000</td>\n",
       "      <td>37002.580000</td>\n",
       "      <td>3096.378333</td>\n",
       "      <td>5.000000</td>\n",
       "      <td>5.000000</td>\n",
       "      <td>13.00000</td>\n",
       "      <td>3.000000</td>\n",
       "      <td>3463.000000</td>\n",
       "      <td>...</td>\n",
       "      <td>219.000000</td>\n",
       "      <td>0.000000</td>\n",
       "      <td>0.00000</td>\n",
       "      <td>0.000000</td>\n",
       "      <td>0.000000</td>\n",
       "      <td>0.000000</td>\n",
       "      <td>0.00000</td>\n",
       "      <td>0.00000</td>\n",
       "      <td>0.000000</td>\n",
       "      <td>1.000000</td>\n",
       "    </tr>\n",
       "    <tr>\n",
       "      <th>75%</th>\n",
       "      <td>6.250000</td>\n",
       "      <td>42.000000</td>\n",
       "      <td>11.000000</td>\n",
       "      <td>71689.680000</td>\n",
       "      <td>5961.637500</td>\n",
       "      <td>7.000000</td>\n",
       "      <td>7.000000</td>\n",
       "      <td>20.00000</td>\n",
       "      <td>5.000000</td>\n",
       "      <td>4553.250000</td>\n",
       "      <td>...</td>\n",
       "      <td>301.000000</td>\n",
       "      <td>1.000000</td>\n",
       "      <td>1.00000</td>\n",
       "      <td>1.000000</td>\n",
       "      <td>1.000000</td>\n",
       "      <td>1.000000</td>\n",
       "      <td>1.00000</td>\n",
       "      <td>1.00000</td>\n",
       "      <td>1.000000</td>\n",
       "      <td>1.000000</td>\n",
       "    </tr>\n",
       "    <tr>\n",
       "      <th>max</th>\n",
       "      <td>8.000000</td>\n",
       "      <td>100.000000</td>\n",
       "      <td>14.000000</td>\n",
       "      <td>277803.000000</td>\n",
       "      <td>15204.633333</td>\n",
       "      <td>100.000000</td>\n",
       "      <td>11.000000</td>\n",
       "      <td>34.00000</td>\n",
       "      <td>9.000000</td>\n",
       "      <td>6259.000000</td>\n",
       "      <td>...</td>\n",
       "      <td>404.000000</td>\n",
       "      <td>1.000000</td>\n",
       "      <td>1.00000</td>\n",
       "      <td>1.000000</td>\n",
       "      <td>1.000000</td>\n",
       "      <td>1.000000</td>\n",
       "      <td>1.00000</td>\n",
       "      <td>1.00000</td>\n",
       "      <td>1.000000</td>\n",
       "      <td>1.000000</td>\n",
       "    </tr>\n",
       "  </tbody>\n",
       "</table>\n",
       "<p>8 rows × 32 columns</p>\n",
       "</div>"
      ],
      "text/plain": [
       "               Month            Age     Occupation  Annual_Income  \\\n",
       "count  100000.000000  100000.000000  100000.000000  100000.000000   \n",
       "mean        4.500000      33.322050       6.949840   50519.155472   \n",
       "std         2.291299      10.773792       4.309542   38335.627421   \n",
       "min         1.000000      14.000000       0.000000    7005.930000   \n",
       "25%         2.750000      24.000000       3.000000   19344.270000   \n",
       "50%         4.500000      33.000000       7.000000   37002.580000   \n",
       "75%         6.250000      42.000000      11.000000   71689.680000   \n",
       "max         8.000000     100.000000      14.000000  277803.000000   \n",
       "\n",
       "       Monthly_Inhand_Salary  Num_Bank_Accounts  Num_Credit_Card  \\\n",
       "count          100000.000000      100000.000000    100000.000000   \n",
       "mean             4198.468568           5.403396         5.533620   \n",
       "std              3187.369878           2.965084         2.067078   \n",
       "min               303.645417           0.000000         0.000000   \n",
       "25%              1626.594167           3.000000         4.000000   \n",
       "50%              3096.378333           5.000000         5.000000   \n",
       "75%              5961.637500           7.000000         7.000000   \n",
       "max             15204.633333         100.000000        11.000000   \n",
       "\n",
       "       Interest_Rate    Num_of_Loan   Type_of_Loan  ...  \\\n",
       "count   100000.00000  100000.000000  100000.000000  ...   \n",
       "mean        14.53208       3.532880    3194.687520  ...   \n",
       "std          8.74133       2.446356    1714.425404  ...   \n",
       "min          1.00000       0.000000       0.000000  ...   \n",
       "25%          7.00000       2.000000    1777.750000  ...   \n",
       "50%         13.00000       3.000000    3463.000000  ...   \n",
       "75%         20.00000       5.000000    4553.250000  ...   \n",
       "max         34.00000       9.000000    6259.000000  ...   \n",
       "\n",
       "       Credit_History_Age_Formated      Auto_Loan  Credit-Builder_Loan  \\\n",
       "count                100000.000000  100000.000000         100000.00000   \n",
       "mean                    221.180115       0.305600              0.31728   \n",
       "std                      99.071581       0.460663              0.46542   \n",
       "min                       1.000000       0.000000              0.00000   \n",
       "25%                     146.000000       0.000000              0.00000   \n",
       "50%                     219.000000       0.000000              0.00000   \n",
       "75%                     301.000000       1.000000              1.00000   \n",
       "max                     404.000000       1.000000              1.00000   \n",
       "\n",
       "       Personal_Loan  Home_Equity_Loan  Mortgage_Loan  Student_Loan  \\\n",
       "count  100000.000000     100000.000000  100000.000000  100000.00000   \n",
       "mean        0.311040          0.314000       0.313600       0.31040   \n",
       "std         0.462921          0.464119       0.463958       0.46266   \n",
       "min         0.000000          0.000000       0.000000       0.00000   \n",
       "25%         0.000000          0.000000       0.000000       0.00000   \n",
       "50%         0.000000          0.000000       0.000000       0.00000   \n",
       "75%         1.000000          1.000000       1.000000       1.00000   \n",
       "max         1.000000          1.000000       1.000000       1.00000   \n",
       "\n",
       "       Debt_Consolidation_Loan    Payday_Loan  Missed_Payment_Day  \n",
       "count             100000.00000  100000.000000       100000.000000  \n",
       "mean                   0.31040       0.319440            0.982140  \n",
       "std                    0.46266       0.466262            0.132443  \n",
       "min                    0.00000       0.000000            0.000000  \n",
       "25%                    0.00000       0.000000            1.000000  \n",
       "50%                    0.00000       0.000000            1.000000  \n",
       "75%                    1.00000       1.000000            1.000000  \n",
       "max                    1.00000       1.000000            1.000000  \n",
       "\n",
       "[8 rows x 32 columns]"
      ]
     },
     "execution_count": 13,
     "metadata": {},
     "output_type": "execute_result"
    }
   ],
   "source": [
    "df.describe()"
   ]
  },
  {
   "cell_type": "code",
   "execution_count": 14,
   "metadata": {
    "execution": {
     "iopub.execute_input": "2023-10-17T18:29:27.002019Z",
     "iopub.status.busy": "2023-10-17T18:29:27.001520Z",
     "iopub.status.idle": "2023-10-17T18:29:27.022677Z",
     "shell.execute_reply": "2023-10-17T18:29:27.021081Z",
     "shell.execute_reply.started": "2023-10-17T18:29:27.001975Z"
    }
   },
   "outputs": [
    {
     "name": "stdout",
     "output_type": "stream",
     "text": [
      "<class 'pandas.core.frame.DataFrame'>\n",
      "RangeIndex: 100000 entries, 0 to 99999\n",
      "Data columns (total 32 columns):\n",
      " #   Column                       Non-Null Count   Dtype  \n",
      "---  ------                       --------------   -----  \n",
      " 0   Month                        100000 non-null  int64  \n",
      " 1   Age                          100000 non-null  float64\n",
      " 2   Occupation                   100000 non-null  int32  \n",
      " 3   Annual_Income                100000 non-null  float64\n",
      " 4   Monthly_Inhand_Salary        100000 non-null  float64\n",
      " 5   Num_Bank_Accounts            100000 non-null  float64\n",
      " 6   Num_Credit_Card              100000 non-null  float64\n",
      " 7   Interest_Rate                100000 non-null  float64\n",
      " 8   Num_of_Loan                  100000 non-null  float64\n",
      " 9   Type_of_Loan                 100000 non-null  int32  \n",
      " 10  Delay_from_due_date          100000 non-null  int64  \n",
      " 11  Num_of_Delayed_Payment       100000 non-null  float64\n",
      " 12  Changed_Credit_Limit         100000 non-null  float64\n",
      " 13  Num_Credit_Inquiries         100000 non-null  float64\n",
      " 14  Credit_Mix                   100000 non-null  int64  \n",
      " 15  Outstanding_Debt             100000 non-null  float64\n",
      " 16  Credit_Utilization_Ratio     100000 non-null  float64\n",
      " 17  Payment_of_Min_Amount        100000 non-null  int32  \n",
      " 18  Total_EMI_per_month          100000 non-null  float64\n",
      " 19  Amount_invested_monthly      100000 non-null  float64\n",
      " 20  Monthly_Balance              100000 non-null  float64\n",
      " 21  Credit_Score                 100000 non-null  int64  \n",
      " 22  Credit_History_Age_Formated  100000 non-null  float64\n",
      " 23  Auto_Loan                    100000 non-null  int64  \n",
      " 24  Credit-Builder_Loan          100000 non-null  int64  \n",
      " 25  Personal_Loan                100000 non-null  int64  \n",
      " 26  Home_Equity_Loan             100000 non-null  int64  \n",
      " 27  Mortgage_Loan                100000 non-null  int64  \n",
      " 28  Student_Loan                 100000 non-null  int64  \n",
      " 29  Debt_Consolidation_Loan      100000 non-null  int64  \n",
      " 30  Payday_Loan                  100000 non-null  int64  \n",
      " 31  Missed_Payment_Day           100000 non-null  int64  \n",
      "dtypes: float64(16), int32(3), int64(13)\n",
      "memory usage: 23.3 MB\n"
     ]
    }
   ],
   "source": [
    "df.info()"
   ]
  },
  {
   "cell_type": "code",
   "execution_count": 15,
   "metadata": {
    "execution": {
     "iopub.execute_input": "2023-10-17T18:29:36.612687Z",
     "iopub.status.busy": "2023-10-17T18:29:36.612236Z",
     "iopub.status.idle": "2023-10-17T18:29:36.619444Z",
     "shell.execute_reply": "2023-10-17T18:29:36.618302Z",
     "shell.execute_reply.started": "2023-10-17T18:29:36.612657Z"
    }
   },
   "outputs": [],
   "source": [
    "from sklearn.model_selection import train_test_split\n",
    "from sklearn.ensemble import RandomForestClassifier\n",
    "from xgboost import XGBClassifier\n",
    "from sklearn.svm import SVC\n",
    "from sklearn.linear_model import LogisticRegression\n",
    "from sklearn.metrics import accuracy_score\n"
   ]
  },
  {
   "cell_type": "code",
   "execution_count": 16,
   "metadata": {
    "execution": {
     "iopub.execute_input": "2023-10-17T18:29:42.051666Z",
     "iopub.status.busy": "2023-10-17T18:29:42.051275Z",
     "iopub.status.idle": "2023-10-17T18:29:42.110957Z",
     "shell.execute_reply": "2023-10-17T18:29:42.109489Z",
     "shell.execute_reply.started": "2023-10-17T18:29:42.051634Z"
    }
   },
   "outputs": [],
   "source": [
    "# Generate some sample data (you should replace this with your own dataset)\n",
    "X = df.drop(columns=['Credit_Score'])\n",
    "y = df['Credit_Score']\n",
    "X_train, X_val, y_train, y_val = train_test_split(X, y, test_size=0.2, random_state=42)"
   ]
  },
  {
   "cell_type": "code",
   "execution_count": 17,
   "metadata": {
    "execution": {
     "iopub.execute_input": "2023-10-17T18:29:47.103667Z",
     "iopub.status.busy": "2023-10-17T18:29:47.103311Z",
     "iopub.status.idle": "2023-10-17T18:30:17.811431Z",
     "shell.execute_reply": "2023-10-17T18:30:17.809936Z",
     "shell.execute_reply.started": "2023-10-17T18:29:47.103638Z"
    }
   },
   "outputs": [
    {
     "data": {
      "text/html": [
       "<style>#sk-container-id-1 {color: black;background-color: white;}#sk-container-id-1 pre{padding: 0;}#sk-container-id-1 div.sk-toggleable {background-color: white;}#sk-container-id-1 label.sk-toggleable__label {cursor: pointer;display: block;width: 100%;margin-bottom: 0;padding: 0.3em;box-sizing: border-box;text-align: center;}#sk-container-id-1 label.sk-toggleable__label-arrow:before {content: \"▸\";float: left;margin-right: 0.25em;color: #696969;}#sk-container-id-1 label.sk-toggleable__label-arrow:hover:before {color: black;}#sk-container-id-1 div.sk-estimator:hover label.sk-toggleable__label-arrow:before {color: black;}#sk-container-id-1 div.sk-toggleable__content {max-height: 0;max-width: 0;overflow: hidden;text-align: left;background-color: #f0f8ff;}#sk-container-id-1 div.sk-toggleable__content pre {margin: 0.2em;color: black;border-radius: 0.25em;background-color: #f0f8ff;}#sk-container-id-1 input.sk-toggleable__control:checked~div.sk-toggleable__content {max-height: 200px;max-width: 100%;overflow: auto;}#sk-container-id-1 input.sk-toggleable__control:checked~label.sk-toggleable__label-arrow:before {content: \"▾\";}#sk-container-id-1 div.sk-estimator input.sk-toggleable__control:checked~label.sk-toggleable__label {background-color: #d4ebff;}#sk-container-id-1 div.sk-label input.sk-toggleable__control:checked~label.sk-toggleable__label {background-color: #d4ebff;}#sk-container-id-1 input.sk-hidden--visually {border: 0;clip: rect(1px 1px 1px 1px);clip: rect(1px, 1px, 1px, 1px);height: 1px;margin: -1px;overflow: hidden;padding: 0;position: absolute;width: 1px;}#sk-container-id-1 div.sk-estimator {font-family: monospace;background-color: #f0f8ff;border: 1px dotted black;border-radius: 0.25em;box-sizing: border-box;margin-bottom: 0.5em;}#sk-container-id-1 div.sk-estimator:hover {background-color: #d4ebff;}#sk-container-id-1 div.sk-parallel-item::after {content: \"\";width: 100%;border-bottom: 1px solid gray;flex-grow: 1;}#sk-container-id-1 div.sk-label:hover label.sk-toggleable__label {background-color: #d4ebff;}#sk-container-id-1 div.sk-serial::before {content: \"\";position: absolute;border-left: 1px solid gray;box-sizing: border-box;top: 0;bottom: 0;left: 50%;z-index: 0;}#sk-container-id-1 div.sk-serial {display: flex;flex-direction: column;align-items: center;background-color: white;padding-right: 0.2em;padding-left: 0.2em;position: relative;}#sk-container-id-1 div.sk-item {position: relative;z-index: 1;}#sk-container-id-1 div.sk-parallel {display: flex;align-items: stretch;justify-content: center;background-color: white;position: relative;}#sk-container-id-1 div.sk-item::before, #sk-container-id-1 div.sk-parallel-item::before {content: \"\";position: absolute;border-left: 1px solid gray;box-sizing: border-box;top: 0;bottom: 0;left: 50%;z-index: -1;}#sk-container-id-1 div.sk-parallel-item {display: flex;flex-direction: column;z-index: 1;position: relative;background-color: white;}#sk-container-id-1 div.sk-parallel-item:first-child::after {align-self: flex-end;width: 50%;}#sk-container-id-1 div.sk-parallel-item:last-child::after {align-self: flex-start;width: 50%;}#sk-container-id-1 div.sk-parallel-item:only-child::after {width: 0;}#sk-container-id-1 div.sk-dashed-wrapped {border: 1px dashed gray;margin: 0 0.4em 0.5em 0.4em;box-sizing: border-box;padding-bottom: 0.4em;background-color: white;}#sk-container-id-1 div.sk-label label {font-family: monospace;font-weight: bold;display: inline-block;line-height: 1.2em;}#sk-container-id-1 div.sk-label-container {text-align: center;}#sk-container-id-1 div.sk-container {/* jupyter's `normalize.less` sets `[hidden] { display: none; }` but bootstrap.min.css set `[hidden] { display: none !important; }` so we also need the `!important` here to be able to override the default hidden behavior on the sphinx rendered scikit-learn.org. See: https://github.com/scikit-learn/scikit-learn/issues/21755 */display: inline-block !important;position: relative;}#sk-container-id-1 div.sk-text-repr-fallback {display: none;}</style><div id=\"sk-container-id-1\" class=\"sk-top-container\"><div class=\"sk-text-repr-fallback\"><pre>RandomForestClassifier(random_state=42)</pre><b>In a Jupyter environment, please rerun this cell to show the HTML representation or trust the notebook. <br />On GitHub, the HTML representation is unable to render, please try loading this page with nbviewer.org.</b></div><div class=\"sk-container\" hidden><div class=\"sk-item\"><div class=\"sk-estimator sk-toggleable\"><input class=\"sk-toggleable__control sk-hidden--visually\" id=\"sk-estimator-id-1\" type=\"checkbox\" checked><label for=\"sk-estimator-id-1\" class=\"sk-toggleable__label sk-toggleable__label-arrow\">RandomForestClassifier</label><div class=\"sk-toggleable__content\"><pre>RandomForestClassifier(random_state=42)</pre></div></div></div></div></div>"
      ],
      "text/plain": [
       "RandomForestClassifier(random_state=42)"
      ]
     },
     "execution_count": 17,
     "metadata": {},
     "output_type": "execute_result"
    }
   ],
   "source": [
    "rf_model = RandomForestClassifier(n_estimators=100, random_state=42)\n",
    "rf_model.fit(X_train, y_train)"
   ]
  },
  {
   "cell_type": "code",
   "execution_count": 18,
   "metadata": {
    "execution": {
     "iopub.execute_input": "2023-10-17T18:30:30.896089Z",
     "iopub.status.busy": "2023-10-17T18:30:30.895698Z",
     "iopub.status.idle": "2023-10-17T18:31:01.085787Z",
     "shell.execute_reply": "2023-10-17T18:31:01.084613Z",
     "shell.execute_reply.started": "2023-10-17T18:30:30.896058Z"
    }
   },
   "outputs": [
    {
     "data": {
      "text/html": [
       "<style>#sk-container-id-2 {color: black;background-color: white;}#sk-container-id-2 pre{padding: 0;}#sk-container-id-2 div.sk-toggleable {background-color: white;}#sk-container-id-2 label.sk-toggleable__label {cursor: pointer;display: block;width: 100%;margin-bottom: 0;padding: 0.3em;box-sizing: border-box;text-align: center;}#sk-container-id-2 label.sk-toggleable__label-arrow:before {content: \"▸\";float: left;margin-right: 0.25em;color: #696969;}#sk-container-id-2 label.sk-toggleable__label-arrow:hover:before {color: black;}#sk-container-id-2 div.sk-estimator:hover label.sk-toggleable__label-arrow:before {color: black;}#sk-container-id-2 div.sk-toggleable__content {max-height: 0;max-width: 0;overflow: hidden;text-align: left;background-color: #f0f8ff;}#sk-container-id-2 div.sk-toggleable__content pre {margin: 0.2em;color: black;border-radius: 0.25em;background-color: #f0f8ff;}#sk-container-id-2 input.sk-toggleable__control:checked~div.sk-toggleable__content {max-height: 200px;max-width: 100%;overflow: auto;}#sk-container-id-2 input.sk-toggleable__control:checked~label.sk-toggleable__label-arrow:before {content: \"▾\";}#sk-container-id-2 div.sk-estimator input.sk-toggleable__control:checked~label.sk-toggleable__label {background-color: #d4ebff;}#sk-container-id-2 div.sk-label input.sk-toggleable__control:checked~label.sk-toggleable__label {background-color: #d4ebff;}#sk-container-id-2 input.sk-hidden--visually {border: 0;clip: rect(1px 1px 1px 1px);clip: rect(1px, 1px, 1px, 1px);height: 1px;margin: -1px;overflow: hidden;padding: 0;position: absolute;width: 1px;}#sk-container-id-2 div.sk-estimator {font-family: monospace;background-color: #f0f8ff;border: 1px dotted black;border-radius: 0.25em;box-sizing: border-box;margin-bottom: 0.5em;}#sk-container-id-2 div.sk-estimator:hover {background-color: #d4ebff;}#sk-container-id-2 div.sk-parallel-item::after {content: \"\";width: 100%;border-bottom: 1px solid gray;flex-grow: 1;}#sk-container-id-2 div.sk-label:hover label.sk-toggleable__label {background-color: #d4ebff;}#sk-container-id-2 div.sk-serial::before {content: \"\";position: absolute;border-left: 1px solid gray;box-sizing: border-box;top: 0;bottom: 0;left: 50%;z-index: 0;}#sk-container-id-2 div.sk-serial {display: flex;flex-direction: column;align-items: center;background-color: white;padding-right: 0.2em;padding-left: 0.2em;position: relative;}#sk-container-id-2 div.sk-item {position: relative;z-index: 1;}#sk-container-id-2 div.sk-parallel {display: flex;align-items: stretch;justify-content: center;background-color: white;position: relative;}#sk-container-id-2 div.sk-item::before, #sk-container-id-2 div.sk-parallel-item::before {content: \"\";position: absolute;border-left: 1px solid gray;box-sizing: border-box;top: 0;bottom: 0;left: 50%;z-index: -1;}#sk-container-id-2 div.sk-parallel-item {display: flex;flex-direction: column;z-index: 1;position: relative;background-color: white;}#sk-container-id-2 div.sk-parallel-item:first-child::after {align-self: flex-end;width: 50%;}#sk-container-id-2 div.sk-parallel-item:last-child::after {align-self: flex-start;width: 50%;}#sk-container-id-2 div.sk-parallel-item:only-child::after {width: 0;}#sk-container-id-2 div.sk-dashed-wrapped {border: 1px dashed gray;margin: 0 0.4em 0.5em 0.4em;box-sizing: border-box;padding-bottom: 0.4em;background-color: white;}#sk-container-id-2 div.sk-label label {font-family: monospace;font-weight: bold;display: inline-block;line-height: 1.2em;}#sk-container-id-2 div.sk-label-container {text-align: center;}#sk-container-id-2 div.sk-container {/* jupyter's `normalize.less` sets `[hidden] { display: none; }` but bootstrap.min.css set `[hidden] { display: none !important; }` so we also need the `!important` here to be able to override the default hidden behavior on the sphinx rendered scikit-learn.org. See: https://github.com/scikit-learn/scikit-learn/issues/21755 */display: inline-block !important;position: relative;}#sk-container-id-2 div.sk-text-repr-fallback {display: none;}</style><div id=\"sk-container-id-2\" class=\"sk-top-container\"><div class=\"sk-text-repr-fallback\"><pre>XGBClassifier(base_score=None, booster=None, callbacks=None,\n",
       "              colsample_bylevel=None, colsample_bynode=None,\n",
       "              colsample_bytree=None, device=None, early_stopping_rounds=None,\n",
       "              enable_categorical=False, eval_metric=None, feature_types=None,\n",
       "              gamma=None, grow_policy=None, importance_type=None,\n",
       "              interaction_constraints=None, learning_rate=None, max_bin=None,\n",
       "              max_cat_threshold=None, max_cat_to_onehot=None,\n",
       "              max_delta_step=None, max_depth=None, max_leaves=None,\n",
       "              min_child_weight=None, missing=nan, monotone_constraints=None,\n",
       "              multi_strategy=None, n_estimators=100, n_jobs=None,\n",
       "              num_parallel_tree=None, objective=&#x27;multi:softprob&#x27;, ...)</pre><b>In a Jupyter environment, please rerun this cell to show the HTML representation or trust the notebook. <br />On GitHub, the HTML representation is unable to render, please try loading this page with nbviewer.org.</b></div><div class=\"sk-container\" hidden><div class=\"sk-item\"><div class=\"sk-estimator sk-toggleable\"><input class=\"sk-toggleable__control sk-hidden--visually\" id=\"sk-estimator-id-2\" type=\"checkbox\" checked><label for=\"sk-estimator-id-2\" class=\"sk-toggleable__label sk-toggleable__label-arrow\">XGBClassifier</label><div class=\"sk-toggleable__content\"><pre>XGBClassifier(base_score=None, booster=None, callbacks=None,\n",
       "              colsample_bylevel=None, colsample_bynode=None,\n",
       "              colsample_bytree=None, device=None, early_stopping_rounds=None,\n",
       "              enable_categorical=False, eval_metric=None, feature_types=None,\n",
       "              gamma=None, grow_policy=None, importance_type=None,\n",
       "              interaction_constraints=None, learning_rate=None, max_bin=None,\n",
       "              max_cat_threshold=None, max_cat_to_onehot=None,\n",
       "              max_delta_step=None, max_depth=None, max_leaves=None,\n",
       "              min_child_weight=None, missing=nan, monotone_constraints=None,\n",
       "              multi_strategy=None, n_estimators=100, n_jobs=None,\n",
       "              num_parallel_tree=None, objective=&#x27;multi:softprob&#x27;, ...)</pre></div></div></div></div></div>"
      ],
      "text/plain": [
       "XGBClassifier(base_score=None, booster=None, callbacks=None,\n",
       "              colsample_bylevel=None, colsample_bynode=None,\n",
       "              colsample_bytree=None, device=None, early_stopping_rounds=None,\n",
       "              enable_categorical=False, eval_metric=None, feature_types=None,\n",
       "              gamma=None, grow_policy=None, importance_type=None,\n",
       "              interaction_constraints=None, learning_rate=None, max_bin=None,\n",
       "              max_cat_threshold=None, max_cat_to_onehot=None,\n",
       "              max_delta_step=None, max_depth=None, max_leaves=None,\n",
       "              min_child_weight=None, missing=nan, monotone_constraints=None,\n",
       "              multi_strategy=None, n_estimators=100, n_jobs=None,\n",
       "              num_parallel_tree=None, objective='multi:softprob', ...)"
      ]
     },
     "execution_count": 18,
     "metadata": {},
     "output_type": "execute_result"
    }
   ],
   "source": [
    "xgb_model = XGBClassifier(n_estimators=100, random_state=42)\n",
    "xgb_model.fit(X_train, y_train)"
   ]
  },
  {
   "cell_type": "code",
   "execution_count": null,
   "metadata": {
    "execution": {
     "iopub.execute_input": "2023-10-17T18:31:47.165729Z",
     "iopub.status.busy": "2023-10-17T18:31:47.165369Z"
    }
   },
   "outputs": [],
   "source": [
    "svm_model = SVC(probability=True, random_state=42)\n",
    "svm_model.fit(X_train, y_train)"
   ]
  },
  {
   "cell_type": "code",
   "execution_count": null,
   "metadata": {},
   "outputs": [],
   "source": [
    "\n",
    "\n",
    "\n",
    "\n",
    "xgb_model = XGBClassifier(n_estimators=100, random_state=42)\n",
    "xgb_model.fit(X_train, y_train)\n",
    "\n",
    "\n",
    "\n",
    "# Step 2: Generate predictions from the base models on the validation set\n",
    "rf_pred = rf_model.predict(X_val)\n",
    "xgb_pred = xgb_model.predict(X_val)\n",
    "svm_pred = svm_model.predict(X_val)\n",
    "\n",
    "# Step 3: Create a new feature vector by concatenating the predictions\n",
    "new_feature_set = np.column_stack((rf_pred, xgb_pred, svm_pred))\n",
    "\n",
    "# Step 4: Train a logistic regression meta-model on the new feature set\n",
    "meta_model = LogisticRegression()\n",
    "meta_model.fit(new_feature_set, y_val)\n",
    "\n",
    "# Step 5: Make predictions on test data using the stacking ensemble\n",
    "# Replace X_test with your test dataset\n",
    "rf_test_pred = rf_model.predict(X_test)\n",
    "xgb_test_pred = xgb_model.predict(X_test)\n",
    "svm_test_pred = svm_model.predict(X_test)\n",
    "\n",
    "# Create a new feature vector for the test data\n",
    "test_new_feature_set = np.column_stack((rf_test_pred, xgb_test_pred, svm_test_pred))\n",
    "\n",
    "# Make final predictions using the logistic regression meta-model\n",
    "final_predictions = meta_model.predict(test_new_feature_set)\n",
    "\n",
    "# You can now use final_predictions for evaluation or any other downstream tasks\n",
    "\n",
    "# Optionally, you can evaluate the performance of the stacking ensemble\n",
    "accuracy = accuracy_score(y_test, final_predictions)\n",
    "print(f\"Accuracy of the stacking ensemble: {accuracy}\")\n"
   ]
  }
 ],
 "metadata": {
  "kernelspec": {
   "display_name": "Python 3 (ipykernel)",
   "language": "python",
   "name": "python3"
  },
  "language_info": {
   "codemirror_mode": {
    "name": "ipython",
    "version": 3
   },
   "file_extension": ".py",
   "mimetype": "text/x-python",
   "name": "python",
   "nbconvert_exporter": "python",
   "pygments_lexer": "ipython3",
   "version": "3.11.1"
  }
 },
 "nbformat": 4,
 "nbformat_minor": 4
}
